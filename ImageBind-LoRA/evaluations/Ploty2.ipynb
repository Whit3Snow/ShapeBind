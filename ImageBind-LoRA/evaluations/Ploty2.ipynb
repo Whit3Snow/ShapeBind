{
 "cells": [
  {
   "cell_type": "code",
   "execution_count": 1,
   "metadata": {},
   "outputs": [
    {
     "name": "stderr",
     "output_type": "stream",
     "text": [
      "/root/anaconda3/envs/imagebind_LoRA/lib/python3.8/site-packages/tqdm/auto.py:21: TqdmWarning: IProgress not found. Please update jupyter and ipywidgets. See https://ipywidgets.readthedocs.io/en/stable/user_install.html\n",
      "  from .autonotebook import tqdm as notebook_tqdm\n",
      "100%|██████████| 72/72 [00:46<00:00,  1.54it/s]\n"
     ]
    }
   ],
   "source": [
    "from torch.utils.data import Dataset, DataLoader\n",
    "import torch\n",
    "import pdb\n",
    "from sklearn.manifold import TSNE\n",
    "import sys\n",
    "sys.path.append('/root/ShapeBind/ImageBind-LoRA/datasets')\n",
    "from shapetalk_embedding import ShapetalkEmb_ClsDataset\n",
    "import plotly.express as px\n",
    "import numpy as np\n",
    "import tqdm\n",
    "\n",
    "dataset = ShapetalkEmb_ClsDataset()\n",
    "\n",
    "bs = 512\n",
    "dataloader = DataLoader(dataset, batch_size=bs, shuffle=False, num_workers=0)\n",
    "\n",
    "\n",
    "data, labels = next(iter(dataloader))\n",
    "labels = np.asarray(labels)\n",
    "\n",
    "with torch.no_grad():\n",
    "    for index, (shape_emb, label) in enumerate(tqdm.tqdm(dataloader)):\n",
    "        # label = list[batch길이]\n",
    "        # shape_emb = tensor[batch, 1024]\n",
    "        labels = np.append(labels, np.asarray(label))\n",
    "        data = torch.cat((data, shape_emb), dim = 0)\n"
   ]
  },
  {
   "cell_type": "code",
   "execution_count": 2,
   "metadata": {},
   "outputs": [
    {
     "name": "stdout",
     "output_type": "stream",
     "text": [
      "torch.Size([36903, 1024])\n",
      "(36903,)\n"
     ]
    }
   ],
   "source": [
    "print(data.shape)\n",
    "print(labels.shape)\n"
   ]
  },
  {
   "cell_type": "code",
   "execution_count": null,
   "metadata": {},
   "outputs": [],
   "source": [
    "num_items = 100\n",
    "\n",
    "reduced_data = []\n",
    "reduced_labels = []\n",
    "\n",
    "class_count = [0 for _ in range(30)]\n",
    "for idx in range(len(labels)):\n",
    "    if class_count[labels[idx]] <= num_items:\n",
    "        class_count[labels[idx]] += 1\n",
    "        reduced_data.append(data[idx])\n",
    "        reduced_labels.append(labels[idx])\n",
    "    else:\n",
    "        pass\n"
   ]
  },
  {
   "cell_type": "code",
   "execution_count": null,
   "metadata": {},
   "outputs": [],
   "source": [
    "# t-SNE 적용\n",
    "tsne = TSNE(n_components=3, random_state=42)\n",
    "data_tsne = tsne.fit_transform(reduced_data.numpy())\n",
    "\n",
    "# 시각화를 위한 DataFrame 생성\n",
    "import pandas as pd\n",
    "# df = pd.DataFrame(data_tsne, columns=[0, 1, 2])\n",
    "df = pd.DataFrame(data_tsne, columns=[0, 1, 2])\n",
    "df['label'] = reduced_labels\n",
    "\n",
    "# Plotly를 사용한 시각화\n",
    "fig = px.scatter_3d(df, x=0, y=1, z=2, labels={'color': 'label'})\n",
    "fig.show()\n"
   ]
  }
 ],
 "metadata": {
  "kernelspec": {
   "display_name": "imagebind_LoRA",
   "language": "python",
   "name": "python3"
  },
  "language_info": {
   "codemirror_mode": {
    "name": "ipython",
    "version": 3
   },
   "file_extension": ".py",
   "mimetype": "text/x-python",
   "name": "python",
   "nbconvert_exporter": "python",
   "pygments_lexer": "ipython3",
   "version": "3.8.18"
  }
 },
 "nbformat": 4,
 "nbformat_minor": 2
}
